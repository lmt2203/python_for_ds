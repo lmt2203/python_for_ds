{
 "cells": [
  {
   "cell_type": "code",
   "execution_count": 7,
   "id": "e12cbc36",
   "metadata": {},
   "outputs": [],
   "source": [
    "#\n",
    "# First, let us create some utility functions for Plotting\n",
    "#\n",
    "\n",
    "\n",
    "def pd_centers(featuresUsed, centers):\n",
    "\tfrom itertools import cycle, islice\n",
    "\tfrom pandas.plotting import parallel_coordinates\n",
    "\timport matplotlib.pyplot as plt\n",
    "\timport pandas as pd\n",
    "\timport numpy as np\n",
    "\n",
    "\tcolNames = list(featuresUsed)\n",
    "\tcolNames.append('prediction')\n",
    "\n",
    "\t# Zip with a column called 'prediction' (index)\n",
    "\tZ = [np.append(A, index) for index, A in enumerate(centers)]\n",
    "\n",
    "\t# Convert to pandas for plotting\n",
    "\tP = pd.DataFrame(Z, columns=colNames)\n",
    "\tP['prediction'] = P['prediction'].astype(int)\n",
    "\treturn P\n",
    "\n",
    "def parallel_plot(data):\n",
    "\tfrom itertools import cycle, islice\n",
    "\tfrom pandas.plotting import parallel_coordinates\n",
    "\timport matplotlib.pyplot as plt\n",
    "\n",
    "\tmy_colors = list(islice(cycle(['b', 'r', 'g', 'y', 'k']), None, len(data)))\n",
    "\tplt.figure(figsize=(15,8)).gca().axes.set_ylim([-2.5,+2.5])\n",
    "\tparallel_coordinates(data, 'prediction', color = my_colors, marker='o')"
   ]
  },
  {
   "cell_type": "code",
   "execution_count": null,
   "id": "c44ab869",
   "metadata": {},
   "outputs": [],
   "source": []
  }
 ],
 "metadata": {
  "kernelspec": {
   "display_name": "Python 3",
   "language": "python",
   "name": "python3"
  },
  "language_info": {
   "codemirror_mode": {
    "name": "ipython",
    "version": 3
   },
   "file_extension": ".py",
   "mimetype": "text/x-python",
   "name": "python",
   "nbconvert_exporter": "python",
   "pygments_lexer": "ipython3",
   "version": "3.8.8"
  }
 },
 "nbformat": 4,
 "nbformat_minor": 5
}
